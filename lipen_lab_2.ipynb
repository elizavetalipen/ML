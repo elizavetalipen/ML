{
  "cells": [
    {
      "cell_type": "markdown",
      "metadata": {
        "id": "UkVTMs9pFFWc"
      },
      "source": [
        "**Задача:** Используя алгоритмы машинного обучения, создать модели, которые предсказывают какой пассажир \n",
        "    выжил после крушения на Титанике. \n",
        "\n",
        "**Данные:** \n",
        "Обучающая выборка должна быть использована для построения ваших моделей машинного обучения. Для обучающей выборки есть таргет *survived*. \n",
        "\n",
        "Тестовая выборка таргета не имеет. Она должна использоваться для оценки качества работы ваших моделей на платформе *kaggle.com*\n",
        "\n",
        "**Подробнее о данных:** https://www.kaggle.com/competitions/titanic/data"
      ]
    },
    {
      "cell_type": "markdown",
      "metadata": {
        "id": "FW58WxCAFFWg"
      },
      "source": [
        "**Loading datasets** "
      ]
    },
    {
      "cell_type": "code",
      "execution_count": null,
      "metadata": {
        "id": "tPkByY3JFFWh",
        "colab": {
          "base_uri": "https://localhost:8080/"
        },
        "outputId": "1a06bd04-0f3a-4c6a-e18d-674a87663471"
      },
      "outputs": [
        {
          "output_type": "stream",
          "name": "stdout",
          "text": [
            "Drive already mounted at /content/drive/; to attempt to forcibly remount, call drive.mount(\"/content/drive/\", force_remount=True).\n"
          ]
        }
      ],
      "source": [
        "from google.colab import drive\n",
        "drive.mount('/content/drive/')\n",
        "\n",
        "import pandas as pd\n",
        "\n",
        "train = pd.read_csv('/content/drive/MyDrive/Colab Notebooks/data/train.csv')\n",
        "test = pd.read_csv('/content/drive/MyDrive/Colab Notebooks/data/test.csv')"
      ]
    },
    {
      "cell_type": "markdown",
      "metadata": {
        "id": "wg18GyueFFWl"
      },
      "source": [
        "**Describing data** \n",
        "Проанализировать все признаки. Для каждого признака определить:\n",
        "* Получить основные статистики (`describe`)\n",
        "* Количество пропусков\n",
        "* Тип признака (категориальные, текстовые, числовые)\n",
        "* Для категориальных данных определить уникальные значения\n",
        "* Для категориальных данных построить bar plot (`plt.bar()`), определить признаковое распредение значений\n",
        "* Для числовых признаков построить гистограмму (`plt.hist()`), попробовать разное количество бинов (*bins*) в разбиении. Определить тип распределения(равномерный, нормальный ...)"
      ]
    },
    {
      "cell_type": "code",
      "execution_count": null,
      "metadata": {
        "id": "76bYEhC2FFWm",
        "colab": {
          "base_uri": "https://localhost:8080/",
          "height": 300
        },
        "outputId": "183683f6-f1ea-4405-a75d-312eda36bed1"
      },
      "outputs": [
        {
          "output_type": "execute_result",
          "data": {
            "text/plain": [
              "       PassengerId    Survived      Pclass         Age       SibSp  \\\n",
              "count   891.000000  891.000000  891.000000  714.000000  891.000000   \n",
              "mean    446.000000    0.383838    2.308642   29.699118    0.523008   \n",
              "std     257.353842    0.486592    0.836071   14.526497    1.102743   \n",
              "min       1.000000    0.000000    1.000000    0.420000    0.000000   \n",
              "25%     223.500000    0.000000    2.000000   20.125000    0.000000   \n",
              "50%     446.000000    0.000000    3.000000   28.000000    0.000000   \n",
              "75%     668.500000    1.000000    3.000000   38.000000    1.000000   \n",
              "max     891.000000    1.000000    3.000000   80.000000    8.000000   \n",
              "\n",
              "            Parch        Fare  \n",
              "count  891.000000  891.000000  \n",
              "mean     0.381594   32.204208  \n",
              "std      0.806057   49.693429  \n",
              "min      0.000000    0.000000  \n",
              "25%      0.000000    7.910400  \n",
              "50%      0.000000   14.454200  \n",
              "75%      0.000000   31.000000  \n",
              "max      6.000000  512.329200  "
            ],
            "text/html": [
              "\n",
              "  <div id=\"df-f58f13d8-8b65-4c8d-b1a2-7befefb1e916\">\n",
              "    <div class=\"colab-df-container\">\n",
              "      <div>\n",
              "<style scoped>\n",
              "    .dataframe tbody tr th:only-of-type {\n",
              "        vertical-align: middle;\n",
              "    }\n",
              "\n",
              "    .dataframe tbody tr th {\n",
              "        vertical-align: top;\n",
              "    }\n",
              "\n",
              "    .dataframe thead th {\n",
              "        text-align: right;\n",
              "    }\n",
              "</style>\n",
              "<table border=\"1\" class=\"dataframe\">\n",
              "  <thead>\n",
              "    <tr style=\"text-align: right;\">\n",
              "      <th></th>\n",
              "      <th>PassengerId</th>\n",
              "      <th>Survived</th>\n",
              "      <th>Pclass</th>\n",
              "      <th>Age</th>\n",
              "      <th>SibSp</th>\n",
              "      <th>Parch</th>\n",
              "      <th>Fare</th>\n",
              "    </tr>\n",
              "  </thead>\n",
              "  <tbody>\n",
              "    <tr>\n",
              "      <th>count</th>\n",
              "      <td>891.000000</td>\n",
              "      <td>891.000000</td>\n",
              "      <td>891.000000</td>\n",
              "      <td>714.000000</td>\n",
              "      <td>891.000000</td>\n",
              "      <td>891.000000</td>\n",
              "      <td>891.000000</td>\n",
              "    </tr>\n",
              "    <tr>\n",
              "      <th>mean</th>\n",
              "      <td>446.000000</td>\n",
              "      <td>0.383838</td>\n",
              "      <td>2.308642</td>\n",
              "      <td>29.699118</td>\n",
              "      <td>0.523008</td>\n",
              "      <td>0.381594</td>\n",
              "      <td>32.204208</td>\n",
              "    </tr>\n",
              "    <tr>\n",
              "      <th>std</th>\n",
              "      <td>257.353842</td>\n",
              "      <td>0.486592</td>\n",
              "      <td>0.836071</td>\n",
              "      <td>14.526497</td>\n",
              "      <td>1.102743</td>\n",
              "      <td>0.806057</td>\n",
              "      <td>49.693429</td>\n",
              "    </tr>\n",
              "    <tr>\n",
              "      <th>min</th>\n",
              "      <td>1.000000</td>\n",
              "      <td>0.000000</td>\n",
              "      <td>1.000000</td>\n",
              "      <td>0.420000</td>\n",
              "      <td>0.000000</td>\n",
              "      <td>0.000000</td>\n",
              "      <td>0.000000</td>\n",
              "    </tr>\n",
              "    <tr>\n",
              "      <th>25%</th>\n",
              "      <td>223.500000</td>\n",
              "      <td>0.000000</td>\n",
              "      <td>2.000000</td>\n",
              "      <td>20.125000</td>\n",
              "      <td>0.000000</td>\n",
              "      <td>0.000000</td>\n",
              "      <td>7.910400</td>\n",
              "    </tr>\n",
              "    <tr>\n",
              "      <th>50%</th>\n",
              "      <td>446.000000</td>\n",
              "      <td>0.000000</td>\n",
              "      <td>3.000000</td>\n",
              "      <td>28.000000</td>\n",
              "      <td>0.000000</td>\n",
              "      <td>0.000000</td>\n",
              "      <td>14.454200</td>\n",
              "    </tr>\n",
              "    <tr>\n",
              "      <th>75%</th>\n",
              "      <td>668.500000</td>\n",
              "      <td>1.000000</td>\n",
              "      <td>3.000000</td>\n",
              "      <td>38.000000</td>\n",
              "      <td>1.000000</td>\n",
              "      <td>0.000000</td>\n",
              "      <td>31.000000</td>\n",
              "    </tr>\n",
              "    <tr>\n",
              "      <th>max</th>\n",
              "      <td>891.000000</td>\n",
              "      <td>1.000000</td>\n",
              "      <td>3.000000</td>\n",
              "      <td>80.000000</td>\n",
              "      <td>8.000000</td>\n",
              "      <td>6.000000</td>\n",
              "      <td>512.329200</td>\n",
              "    </tr>\n",
              "  </tbody>\n",
              "</table>\n",
              "</div>\n",
              "      <button class=\"colab-df-convert\" onclick=\"convertToInteractive('df-f58f13d8-8b65-4c8d-b1a2-7befefb1e916')\"\n",
              "              title=\"Convert this dataframe to an interactive table.\"\n",
              "              style=\"display:none;\">\n",
              "        \n",
              "  <svg xmlns=\"http://www.w3.org/2000/svg\" height=\"24px\"viewBox=\"0 0 24 24\"\n",
              "       width=\"24px\">\n",
              "    <path d=\"M0 0h24v24H0V0z\" fill=\"none\"/>\n",
              "    <path d=\"M18.56 5.44l.94 2.06.94-2.06 2.06-.94-2.06-.94-.94-2.06-.94 2.06-2.06.94zm-11 1L8.5 8.5l.94-2.06 2.06-.94-2.06-.94L8.5 2.5l-.94 2.06-2.06.94zm10 10l.94 2.06.94-2.06 2.06-.94-2.06-.94-.94-2.06-.94 2.06-2.06.94z\"/><path d=\"M17.41 7.96l-1.37-1.37c-.4-.4-.92-.59-1.43-.59-.52 0-1.04.2-1.43.59L10.3 9.45l-7.72 7.72c-.78.78-.78 2.05 0 2.83L4 21.41c.39.39.9.59 1.41.59.51 0 1.02-.2 1.41-.59l7.78-7.78 2.81-2.81c.8-.78.8-2.07 0-2.86zM5.41 20L4 18.59l7.72-7.72 1.47 1.35L5.41 20z\"/>\n",
              "  </svg>\n",
              "      </button>\n",
              "      \n",
              "  <style>\n",
              "    .colab-df-container {\n",
              "      display:flex;\n",
              "      flex-wrap:wrap;\n",
              "      gap: 12px;\n",
              "    }\n",
              "\n",
              "    .colab-df-convert {\n",
              "      background-color: #E8F0FE;\n",
              "      border: none;\n",
              "      border-radius: 50%;\n",
              "      cursor: pointer;\n",
              "      display: none;\n",
              "      fill: #1967D2;\n",
              "      height: 32px;\n",
              "      padding: 0 0 0 0;\n",
              "      width: 32px;\n",
              "    }\n",
              "\n",
              "    .colab-df-convert:hover {\n",
              "      background-color: #E2EBFA;\n",
              "      box-shadow: 0px 1px 2px rgba(60, 64, 67, 0.3), 0px 1px 3px 1px rgba(60, 64, 67, 0.15);\n",
              "      fill: #174EA6;\n",
              "    }\n",
              "\n",
              "    [theme=dark] .colab-df-convert {\n",
              "      background-color: #3B4455;\n",
              "      fill: #D2E3FC;\n",
              "    }\n",
              "\n",
              "    [theme=dark] .colab-df-convert:hover {\n",
              "      background-color: #434B5C;\n",
              "      box-shadow: 0px 1px 3px 1px rgba(0, 0, 0, 0.15);\n",
              "      filter: drop-shadow(0px 1px 2px rgba(0, 0, 0, 0.3));\n",
              "      fill: #FFFFFF;\n",
              "    }\n",
              "  </style>\n",
              "\n",
              "      <script>\n",
              "        const buttonEl =\n",
              "          document.querySelector('#df-f58f13d8-8b65-4c8d-b1a2-7befefb1e916 button.colab-df-convert');\n",
              "        buttonEl.style.display =\n",
              "          google.colab.kernel.accessAllowed ? 'block' : 'none';\n",
              "\n",
              "        async function convertToInteractive(key) {\n",
              "          const element = document.querySelector('#df-f58f13d8-8b65-4c8d-b1a2-7befefb1e916');\n",
              "          const dataTable =\n",
              "            await google.colab.kernel.invokeFunction('convertToInteractive',\n",
              "                                                     [key], {});\n",
              "          if (!dataTable) return;\n",
              "\n",
              "          const docLinkHtml = 'Like what you see? Visit the ' +\n",
              "            '<a target=\"_blank\" href=https://colab.research.google.com/notebooks/data_table.ipynb>data table notebook</a>'\n",
              "            + ' to learn more about interactive tables.';\n",
              "          element.innerHTML = '';\n",
              "          dataTable['output_type'] = 'display_data';\n",
              "          await google.colab.output.renderOutput(dataTable, element);\n",
              "          const docLink = document.createElement('div');\n",
              "          docLink.innerHTML = docLinkHtml;\n",
              "          element.appendChild(docLink);\n",
              "        }\n",
              "      </script>\n",
              "    </div>\n",
              "  </div>\n",
              "  "
            ]
          },
          "metadata": {},
          "execution_count": 151
        }
      ],
      "source": [
        "# genral statistics about the dataset\n",
        "train.describe() "
      ]
    },
    {
      "cell_type": "code",
      "source": [
        "train.columns"
      ],
      "metadata": {
        "id": "9e0O4fzQJflZ",
        "colab": {
          "base_uri": "https://localhost:8080/"
        },
        "outputId": "28672691-53f8-43a1-ddc5-90fadd574e16"
      },
      "execution_count": null,
      "outputs": [
        {
          "output_type": "execute_result",
          "data": {
            "text/plain": [
              "Index(['PassengerId', 'Survived', 'Pclass', 'Name', 'Sex', 'Age', 'SibSp',\n",
              "       'Parch', 'Ticket', 'Fare', 'Cabin', 'Embarked'],\n",
              "      dtype='object')"
            ]
          },
          "metadata": {},
          "execution_count": 152
        }
      ]
    },
    {
      "cell_type": "markdown",
      "source": [
        "**Name**: *Text*\n",
        "\n",
        "**Sex**:  *Categorial*\n",
        "\n",
        "**Age**: *Numeric*\n",
        "\n",
        "**Survived**: *Categorial*\n",
        "\n",
        "**Embarked**: port (C, Q, S), *Categorial*\n",
        "\n",
        "**Pclass**: social status,  *Categorial*\n",
        "\n",
        "**SibSp**: number of spouces/siblings,  *Numeric*\n",
        "\n",
        "**Parch**: number of parents/children,  *Numeric*\n",
        "\n",
        "**Ticket**: *Text*\n",
        "\n",
        "**Fare**: *Numeric*\n",
        "\n",
        "**Cabin**: *Text*\n"
      ],
      "metadata": {
        "id": "pQfcFd2kLElW"
      }
    },
    {
      "cell_type": "markdown",
      "source": [
        "**Count missing values**"
      ],
      "metadata": {
        "id": "HMWOYmBFrxF6"
      }
    },
    {
      "cell_type": "code",
      "source": [
        "train.isnull().sum()"
      ],
      "metadata": {
        "id": "x3zaqqk_UUmE",
        "colab": {
          "base_uri": "https://localhost:8080/"
        },
        "outputId": "4e3480f2-e0e1-4c55-84f3-db4622f08b82"
      },
      "execution_count": null,
      "outputs": [
        {
          "output_type": "execute_result",
          "data": {
            "text/plain": [
              "PassengerId      0\n",
              "Survived         0\n",
              "Pclass           0\n",
              "Name             0\n",
              "Sex              0\n",
              "Age            177\n",
              "SibSp            0\n",
              "Parch            0\n",
              "Ticket           0\n",
              "Fare             0\n",
              "Cabin          687\n",
              "Embarked         2\n",
              "dtype: int64"
            ]
          },
          "metadata": {},
          "execution_count": 153
        }
      ]
    },
    {
      "cell_type": "code",
      "source": [
        "# another way to do it\n",
        "print(\"\\nAge missing values:\",891 - train.Age[train.Age.notnull()].count())\n",
        "print(\"\\nCabin missing values:\",891 - train.Cabin[train.Cabin.notnull()].count())\n",
        "print(\"\\nEmbarked missing values:\",891 - train.Embarked[train.Embarked.notnull()].count())"
      ],
      "metadata": {
        "id": "rCC1NSKRMMCv",
        "colab": {
          "base_uri": "https://localhost:8080/"
        },
        "outputId": "e3edc05e-1469-4d11-9aaa-1346cffac1d0"
      },
      "execution_count": null,
      "outputs": [
        {
          "output_type": "stream",
          "name": "stdout",
          "text": [
            "\n",
            "Age missing values: 177\n",
            "\n",
            "Cabin missing values: 687\n",
            "\n",
            "Embarked missing values: 2\n"
          ]
        }
      ]
    },
    {
      "cell_type": "code",
      "source": [
        "# for categorial data, find unique values\n",
        "print(list(train.Sex.unique()))\n",
        "print(list(train.Embarked.unique()))\n",
        "print(list(train.Pclass.unique()))"
      ],
      "metadata": {
        "id": "TftnETonWRln",
        "colab": {
          "base_uri": "https://localhost:8080/"
        },
        "outputId": "43d35b3a-b213-4ff5-fe1c-370d06e0f5ac"
      },
      "execution_count": null,
      "outputs": [
        {
          "output_type": "stream",
          "name": "stdout",
          "text": [
            "['male', 'female']\n",
            "['S', 'C', 'Q', nan]\n",
            "[3, 1, 2]\n"
          ]
        }
      ]
    },
    {
      "cell_type": "markdown",
      "source": [
        "**Data Plotting**\n",
        "\n",
        "Barplots and histograms"
      ],
      "metadata": {
        "id": "mHpdK4lfsVKj"
      }
    },
    {
      "cell_type": "code",
      "source": [
        "train.Pclass.value_counts().to_frame().plot(kind=\"bar\", color = \"maroon\", edgecolor = \"black\")"
      ],
      "metadata": {
        "id": "i-ZhZRp1W2Sw",
        "colab": {
          "base_uri": "https://localhost:8080/",
          "height": 279
        },
        "outputId": "41206be9-949d-432d-d90d-82a5bd7c3952"
      },
      "execution_count": null,
      "outputs": [
        {
          "output_type": "execute_result",
          "data": {
            "text/plain": [
              "<matplotlib.axes._subplots.AxesSubplot at 0x7f87005ba250>"
            ]
          },
          "metadata": {},
          "execution_count": 156
        },
        {
          "output_type": "display_data",
          "data": {
            "text/plain": [
              "<Figure size 432x288 with 1 Axes>"
            ],
            "image/png": "[encoded data removed]"
          },
          "metadata": {
            "needs_background": "light"
          }
        }
      ]
    },
    {
      "cell_type": "code",
      "source": [
        "train.Embarked.value_counts().to_frame().plot(kind=\"bar\", color = \"purple\", edgecolor = \"black\")"
      ],
      "metadata": {
        "id": "HSQNSQBeiKYh",
        "colab": {
          "base_uri": "https://localhost:8080/",
          "height": 280
        },
        "outputId": "3188948f-f92e-485b-b84b-d3a9f2c10176"
      },
      "execution_count": null,
      "outputs": [
        {
          "output_type": "execute_result",
          "data": {
            "text/plain": [
              "<matplotlib.axes._subplots.AxesSubplot at 0x7f86ffbdc350>"
            ]
          },
          "metadata": {},
          "execution_count": 157
        },
        {
          "output_type": "display_data",
          "data": {
            "text/plain": [
              "<Figure size 432x288 with 1 Axes>"
            ],
            "image/png": "[encoded data removed]"
          },
          "metadata": {
            "needs_background": "light"
          }
        }
      ]
    },
    {
      "cell_type": "code",
      "source": [
        "train.Sex.value_counts().to_frame().plot(kind=\"bar\", color = \"green\", edgecolor = \"black\")"
      ],
      "metadata": {
        "id": "URyFf4etnzDE",
        "colab": {
          "base_uri": "https://localhost:8080/",
          "height": 309
        },
        "outputId": "cdc85349-5b75-43a3-e0d6-cf9512bbd68e"
      },
      "execution_count": null,
      "outputs": [
        {
          "output_type": "execute_result",
          "data": {
            "text/plain": [
              "<matplotlib.axes._subplots.AxesSubplot at 0x7f86ffa04c10>"
            ]
          },
          "metadata": {},
          "execution_count": 158
        },
        {
          "output_type": "display_data",
          "data": {
            "text/plain": [
              "<Figure size 432x288 with 1 Axes>"
            ],
            "image/png": "[encoded data removed]"
          },
          "metadata": {
            "needs_background": "light"
          }
        }
      ]
    },
    {
      "cell_type": "code",
      "source": [
        "train.Survived.value_counts().to_frame().plot(kind=\"bar\", edgecolor = \"black\")"
      ],
      "metadata": {
        "id": "YJretXTEnsPa",
        "colab": {
          "base_uri": "https://localhost:8080/",
          "height": 279
        },
        "outputId": "536af3b2-6035-4e57-edcf-fed800707818"
      },
      "execution_count": null,
      "outputs": [
        {
          "output_type": "execute_result",
          "data": {
            "text/plain": [
              "<matplotlib.axes._subplots.AxesSubplot at 0x7f86fff363d0>"
            ]
          },
          "metadata": {},
          "execution_count": 159
        },
        {
          "output_type": "display_data",
          "data": {
            "text/plain": [
              "<Figure size 432x288 with 1 Axes>"
            ],
            "image/png": "[encoded data removed]"
          },
          "metadata": {
            "needs_background": "light"
          }
        }
      ]
    },
    {
      "cell_type": "code",
      "source": [
        "# histograms\n",
        "for b, c in zip([10, 20, 30, 40], [\"c\",\"m\",\"b\",\"pink\"]):\n",
        "  train.Age.plot(kind=\"hist\", bins = b, color = c, edgecolor = 'black') \n"
      ],
      "metadata": {
        "id": "Mt1gehsDo3sM",
        "colab": {
          "base_uri": "https://localhost:8080/",
          "height": 265
        },
        "outputId": "4fc4d9b9-3a11-4ffa-e92b-2eb66c58c9e9"
      },
      "execution_count": null,
      "outputs": [
        {
          "output_type": "display_data",
          "data": {
            "text/plain": [
              "<Figure size 432x288 with 1 Axes>"
            ],
            "image/png": "[encoded data removed]"
          },
          "metadata": {
            "needs_background": "light"
          }
        }
      ]
    },
    {
      "cell_type": "code",
      "source": [
        "for b, c in zip([10, 30, 50, 70], [\"green\",\"orange\",\"y\",\"red\"]):\n",
        "  train.Fare.plot(kind=\"hist\", bins = b, color = c, edgecolor = 'black') "
      ],
      "metadata": {
        "colab": {
          "base_uri": "https://localhost:8080/",
          "height": 265
        },
        "id": "tLaqIDB0bOkb",
        "outputId": "650935b1-2b88-491a-a3df-3fd4282242e6"
      },
      "execution_count": null,
      "outputs": [
        {
          "output_type": "display_data",
          "data": {
            "text/plain": [
              "<Figure size 432x288 with 1 Axes>"
            ],
            "image/png": "[encoded data removed]"
          },
          "metadata": {
            "needs_background": "light"
          }
        }
      ]
    },
    {
      "cell_type": "code",
      "source": [
        "# other numeric values\n",
        "train.SibSp.plot(kind=\"hist\", bins = 10, color = \"g\", edgecolor = 'black') \n",
        "train.Parch.plot(kind=\"hist\", bins = 10, color = \"y\", edgecolor = 'black') "
      ],
      "metadata": {
        "colab": {
          "base_uri": "https://localhost:8080/",
          "height": 283
        },
        "id": "7DEwXsIFANCY",
        "outputId": "11467876-54d6-4a17-b60c-5c907d21e980"
      },
      "execution_count": null,
      "outputs": [
        {
          "output_type": "execute_result",
          "data": {
            "text/plain": [
              "<matplotlib.axes._subplots.AxesSubplot at 0x7f86ff74fcd0>"
            ]
          },
          "metadata": {},
          "execution_count": 162
        },
        {
          "output_type": "display_data",
          "data": {
            "text/plain": [
              "<Figure size 432x288 with 1 Axes>"
            ],
            "image/png": "[encoded data removed]"
          },
          "metadata": {
            "needs_background": "light"
          }
        }
      ]
    },
    {
      "cell_type": "code",
      "source": [],
      "metadata": {
        "id": "qyNRXCesWo3J"
      },
      "execution_count": null,
      "outputs": []
    },
    {
      "cell_type": "markdown",
      "metadata": {
        "id": "mHNElLS9FFWn"
      },
      "source": [
        "**3.** Препроцессинг данных\n",
        "Для каждого признака необходимо:\n",
        "* Заменить пропуски\n",
        "* Для категориальных текстовых признаков получить категориальные числовые (признак *Sex*). Попробовать из sklearn `LabelEncoder` и `OneHotEncoder` (на выбор)\n",
        "* Нормализовать признаки\n",
        "\n",
        "Замена пропусков может быть реализована через:\n",
        "* заменой средним\n",
        "* заменой медианой\n",
        "* заменой модой (наиболее встречающимся значением)\n",
        "* для категориальных признаков заменой наиболее встречающимся значением или созданием новой категории \"не определено\"\n",
        "* заменой следующим или предыдущим значением (`fillna`)\n",
        "\n",
        "Нормализация (*sklearn*):\n",
        "* `MinMaxScaler`\n",
        "* `StandartScaler`\n",
        "* `RobustScaler`\n",
        "\n",
        "Сделать для *train* и *test* данных."
      ]
    },
    {
      "cell_type": "code",
      "source": [
        "def modify_dataset(dataset):\n",
        "\n",
        "  # replacing missing age values with mean\n",
        "  dataset.Age = dataset.Age.fillna(dataset.Age.mean())\n",
        "\n",
        "  # replacing missing embarked values with Unknown\n",
        "  dataset.Embarked = dataset.Embarked.fillna(\"S\") \n",
        "\n",
        "  # replacing text with numbers\n",
        "  dataset.Embarked.replace(to_replace={'S':1, 'C':2, 'Q':3}, inplace=True)\n",
        "  dataset.Sex.replace(to_replace={'male':1, 'female':0}, inplace=True)\n",
        "\n",
        "  # adding a column that contains number of all relatives\n",
        "  dataset[\"FamilySize\"] = dataset.Parch + dataset.SibSp\n",
        "\n",
        "  # adding deck codes from cabins\n",
        "  decks = {\"U\": 0, \"A\": 1, \"B\": 2, \"C\": 3, \"D\": 4, \"E\": 5, \"F\": 6, \"G\": 7, \"T\": 8}\n",
        "  # if cabin is NaN, then cabin is U\n",
        "  dataset['Deck'] = dataset.Cabin.fillna('U').apply(lambda c: decks.get(c[0], -1))\n",
        "\n",
        "  # dropping unimportant columns\n",
        "  dataset = dataset.drop(columns = [\"Cabin\", \"Ticket\", \"Name\", \"SibSp\", \"Parch\"])\n",
        "\n",
        "  return dataset\n"
      ],
      "metadata": {
        "id": "3tvbKRDoxcJO"
      },
      "execution_count": null,
      "outputs": []
    },
    {
      "cell_type": "code",
      "execution_count": null,
      "metadata": {
        "id": "AxzF0-PqFFWq",
        "colab": {
          "base_uri": "https://localhost:8080/",
          "height": 206
        },
        "outputId": "f970e343-684b-4785-f960-8c60c433e70d"
      },
      "outputs": [
        {
          "output_type": "execute_result",
          "data": {
            "text/plain": [
              "   PassengerId  Survived  Pclass  Sex   Age     Fare  Embarked  FamilySize  \\\n",
              "0            1         0       3    1  22.0   7.2500         1           1   \n",
              "1            2         1       1    0  38.0  71.2833         2           1   \n",
              "2            3         1       3    0  26.0   7.9250         1           0   \n",
              "3            4         1       1    0  35.0  53.1000         1           1   \n",
              "4            5         0       3    1  35.0   8.0500         1           0   \n",
              "\n",
              "   Deck  \n",
              "0     0  \n",
              "1     3  \n",
              "2     0  \n",
              "3     3  \n",
              "4     0  "
            ],
            "text/html": [
              "\n",
              "  <div id=\"df-05f059cc-d181-4ae1-8be6-c61965badd05\">\n",
              "    <div class=\"colab-df-container\">\n",
              "      <div>\n",
              "<style scoped>\n",
              "    .dataframe tbody tr th:only-of-type {\n",
              "        vertical-align: middle;\n",
              "    }\n",
              "\n",
              "    .dataframe tbody tr th {\n",
              "        vertical-align: top;\n",
              "    }\n",
              "\n",
              "    .dataframe thead th {\n",
              "        text-align: right;\n",
              "    }\n",
              "</style>\n",
              "<table border=\"1\" class=\"dataframe\">\n",
              "  <thead>\n",
              "    <tr style=\"text-align: right;\">\n",
              "      <th></th>\n",
              "      <th>PassengerId</th>\n",
              "      <th>Survived</th>\n",
              "      <th>Pclass</th>\n",
              "      <th>Sex</th>\n",
              "      <th>Age</th>\n",
              "      <th>Fare</th>\n",
              "      <th>Embarked</th>\n",
              "      <th>FamilySize</th>\n",
              "      <th>Deck</th>\n",
              "    </tr>\n",
              "  </thead>\n",
              "  <tbody>\n",
              "    <tr>\n",
              "      <th>0</th>\n",
              "      <td>1</td>\n",
              "      <td>0</td>\n",
              "      <td>3</td>\n",
              "      <td>1</td>\n",
              "      <td>22.0</td>\n",
              "      <td>7.2500</td>\n",
              "      <td>1</td>\n",
              "      <td>1</td>\n",
              "      <td>0</td>\n",
              "    </tr>\n",
              "    <tr>\n",
              "      <th>1</th>\n",
              "      <td>2</td>\n",
              "      <td>1</td>\n",
              "      <td>1</td>\n",
              "      <td>0</td>\n",
              "      <td>38.0</td>\n",
              "      <td>71.2833</td>\n",
              "      <td>2</td>\n",
              "      <td>1</td>\n",
              "      <td>3</td>\n",
              "    </tr>\n",
              "    <tr>\n",
              "      <th>2</th>\n",
              "      <td>3</td>\n",
              "      <td>1</td>\n",
              "      <td>3</td>\n",
              "      <td>0</td>\n",
              "      <td>26.0</td>\n",
              "      <td>7.9250</td>\n",
              "      <td>1</td>\n",
              "      <td>0</td>\n",
              "      <td>0</td>\n",
              "    </tr>\n",
              "    <tr>\n",
              "      <th>3</th>\n",
              "      <td>4</td>\n",
              "      <td>1</td>\n",
              "      <td>1</td>\n",
              "      <td>0</td>\n",
              "      <td>35.0</td>\n",
              "      <td>53.1000</td>\n",
              "      <td>1</td>\n",
              "      <td>1</td>\n",
              "      <td>3</td>\n",
              "    </tr>\n",
              "    <tr>\n",
              "      <th>4</th>\n",
              "      <td>5</td>\n",
              "      <td>0</td>\n",
              "      <td>3</td>\n",
              "      <td>1</td>\n",
              "      <td>35.0</td>\n",
              "      <td>8.0500</td>\n",
              "      <td>1</td>\n",
              "      <td>0</td>\n",
              "      <td>0</td>\n",
              "    </tr>\n",
              "  </tbody>\n",
              "</table>\n",
              "</div>\n",
              "      <button class=\"colab-df-convert\" onclick=\"convertToInteractive('df-05f059cc-d181-4ae1-8be6-c61965badd05')\"\n",
              "              title=\"Convert this dataframe to an interactive table.\"\n",
              "              style=\"display:none;\">\n",
              "        \n",
              "  <svg xmlns=\"http://www.w3.org/2000/svg\" height=\"24px\"viewBox=\"0 0 24 24\"\n",
              "       width=\"24px\">\n",
              "    <path d=\"M0 0h24v24H0V0z\" fill=\"none\"/>\n",
              "    <path d=\"M18.56 5.44l.94 2.06.94-2.06 2.06-.94-2.06-.94-.94-2.06-.94 2.06-2.06.94zm-11 1L8.5 8.5l.94-2.06 2.06-.94-2.06-.94L8.5 2.5l-.94 2.06-2.06.94zm10 10l.94 2.06.94-2.06 2.06-.94-2.06-.94-.94-2.06-.94 2.06-2.06.94z\"/><path d=\"M17.41 7.96l-1.37-1.37c-.4-.4-.92-.59-1.43-.59-.52 0-1.04.2-1.43.59L10.3 9.45l-7.72 7.72c-.78.78-.78 2.05 0 2.83L4 21.41c.39.39.9.59 1.41.59.51 0 1.02-.2 1.41-.59l7.78-7.78 2.81-2.81c.8-.78.8-2.07 0-2.86zM5.41 20L4 18.59l7.72-7.72 1.47 1.35L5.41 20z\"/>\n",
              "  </svg>\n",
              "      </button>\n",
              "      \n",
              "  <style>\n",
              "    .colab-df-container {\n",
              "      display:flex;\n",
              "      flex-wrap:wrap;\n",
              "      gap: 12px;\n",
              "    }\n",
              "\n",
              "    .colab-df-convert {\n",
              "      background-color: #E8F0FE;\n",
              "      border: none;\n",
              "      border-radius: 50%;\n",
              "      cursor: pointer;\n",
              "      display: none;\n",
              "      fill: #1967D2;\n",
              "      height: 32px;\n",
              "      padding: 0 0 0 0;\n",
              "      width: 32px;\n",
              "    }\n",
              "\n",
              "    .colab-df-convert:hover {\n",
              "      background-color: #E2EBFA;\n",
              "      box-shadow: 0px 1px 2px rgba(60, 64, 67, 0.3), 0px 1px 3px 1px rgba(60, 64, 67, 0.15);\n",
              "      fill: #174EA6;\n",
              "    }\n",
              "\n",
              "    [theme=dark] .colab-df-convert {\n",
              "      background-color: #3B4455;\n",
              "      fill: #D2E3FC;\n",
              "    }\n",
              "\n",
              "    [theme=dark] .colab-df-convert:hover {\n",
              "      background-color: #434B5C;\n",
              "      box-shadow: 0px 1px 3px 1px rgba(0, 0, 0, 0.15);\n",
              "      filter: drop-shadow(0px 1px 2px rgba(0, 0, 0, 0.3));\n",
              "      fill: #FFFFFF;\n",
              "    }\n",
              "  </style>\n",
              "\n",
              "      <script>\n",
              "        const buttonEl =\n",
              "          document.querySelector('#df-05f059cc-d181-4ae1-8be6-c61965badd05 button.colab-df-convert');\n",
              "        buttonEl.style.display =\n",
              "          google.colab.kernel.accessAllowed ? 'block' : 'none';\n",
              "\n",
              "        async function convertToInteractive(key) {\n",
              "          const element = document.querySelector('#df-05f059cc-d181-4ae1-8be6-c61965badd05');\n",
              "          const dataTable =\n",
              "            await google.colab.kernel.invokeFunction('convertToInteractive',\n",
              "                                                     [key], {});\n",
              "          if (!dataTable) return;\n",
              "\n",
              "          const docLinkHtml = 'Like what you see? Visit the ' +\n",
              "            '<a target=\"_blank\" href=https://colab.research.google.com/notebooks/data_table.ipynb>data table notebook</a>'\n",
              "            + ' to learn more about interactive tables.';\n",
              "          element.innerHTML = '';\n",
              "          dataTable['output_type'] = 'display_data';\n",
              "          await google.colab.output.renderOutput(dataTable, element);\n",
              "          const docLink = document.createElement('div');\n",
              "          docLink.innerHTML = docLinkHtml;\n",
              "          element.appendChild(docLink);\n",
              "        }\n",
              "      </script>\n",
              "    </div>\n",
              "  </div>\n",
              "  "
            ]
          },
          "metadata": {},
          "execution_count": 164
        }
      ],
      "source": [
        "train = modify_dataset(train)\n",
        "test = modify_dataset(test)\n",
        "\n",
        "train.head()"
      ]
    },
    {
      "cell_type": "code",
      "source": [
        "from sklearn import preprocessing \n",
        "import numpy as np\n",
        "\n",
        "def normalize_dataset(dataset, num_cols : list):\n",
        "  # keep only umerical columns to be normalized\n",
        "  data = dataset[num_cols] \n",
        "  # drop those columns from original dataset\n",
        "  dataset = dataset.drop(columns= num_cols)\n",
        "  vals = data.values\n",
        "  min_max_scaler = preprocessing.MinMaxScaler()\n",
        "  scaled = min_max_scaler.fit_transform(vals)\n",
        "  # creating dataframe with normalized data \n",
        "  scaled = pd.DataFrame(scaled, columns = num_cols)\n",
        "  # adding those columns to our original dataframe\n",
        "  normalized = pd.concat([dataset, scaled],axis=1)\n",
        "\n",
        "  return normalized\n",
        "\n",
        "train = normalize_dataset(train, ['Age', 'Fare'])\n",
        "test =  normalize_dataset(test, ['Age', 'Fare'])\n",
        "train.head()"
      ],
      "metadata": {
        "id": "K1uE44dWp60a",
        "colab": {
          "base_uri": "https://localhost:8080/",
          "height": 206
        },
        "outputId": "fc411e48-2e0a-4ec9-e039-a53d33c509a9"
      },
      "execution_count": null,
      "outputs": [
        {
          "output_type": "execute_result",
          "data": {
            "text/plain": [
              "   PassengerId  Survived  Pclass  Sex  Embarked  FamilySize  Deck       Age  \\\n",
              "0            1         0       3    1         1           1     0  0.271174   \n",
              "1            2         1       1    0         2           1     3  0.472229   \n",
              "2            3         1       3    0         1           0     0  0.321438   \n",
              "3            4         1       1    0         1           1     3  0.434531   \n",
              "4            5         0       3    1         1           0     0  0.434531   \n",
              "\n",
              "       Fare  \n",
              "0  0.014151  \n",
              "1  0.139136  \n",
              "2  0.015469  \n",
              "3  0.103644  \n",
              "4  0.015713  "
            ],
            "text/html": [
              "\n",
              "  <div id=\"df-eb157b53-bbb2-4032-801b-718d49cbb9bc\">\n",
              "    <div class=\"colab-df-container\">\n",
              "      <div>\n",
              "<style scoped>\n",
              "    .dataframe tbody tr th:only-of-type {\n",
              "        vertical-align: middle;\n",
              "    }\n",
              "\n",
              "    .dataframe tbody tr th {\n",
              "        vertical-align: top;\n",
              "    }\n",
              "\n",
              "    .dataframe thead th {\n",
              "        text-align: right;\n",
              "    }\n",
              "</style>\n",
              "<table border=\"1\" class=\"dataframe\">\n",
              "  <thead>\n",
              "    <tr style=\"text-align: right;\">\n",
              "      <th></th>\n",
              "      <th>PassengerId</th>\n",
              "      <th>Survived</th>\n",
              "      <th>Pclass</th>\n",
              "      <th>Sex</th>\n",
              "      <th>Embarked</th>\n",
              "      <th>FamilySize</th>\n",
              "      <th>Deck</th>\n",
              "      <th>Age</th>\n",
              "      <th>Fare</th>\n",
              "    </tr>\n",
              "  </thead>\n",
              "  <tbody>\n",
              "    <tr>\n",
              "      <th>0</th>\n",
              "      <td>1</td>\n",
              "      <td>0</td>\n",
              "      <td>3</td>\n",
              "      <td>1</td>\n",
              "      <td>1</td>\n",
              "      <td>1</td>\n",
              "      <td>0</td>\n",
              "      <td>0.271174</td>\n",
              "      <td>0.014151</td>\n",
              "    </tr>\n",
              "    <tr>\n",
              "      <th>1</th>\n",
              "      <td>2</td>\n",
              "      <td>1</td>\n",
              "      <td>1</td>\n",
              "      <td>0</td>\n",
              "      <td>2</td>\n",
              "      <td>1</td>\n",
              "      <td>3</td>\n",
              "      <td>0.472229</td>\n",
              "      <td>0.139136</td>\n",
              "    </tr>\n",
              "    <tr>\n",
              "      <th>2</th>\n",
              "      <td>3</td>\n",
              "      <td>1</td>\n",
              "      <td>3</td>\n",
              "      <td>0</td>\n",
              "      <td>1</td>\n",
              "      <td>0</td>\n",
              "      <td>0</td>\n",
              "      <td>0.321438</td>\n",
              "      <td>0.015469</td>\n",
              "    </tr>\n",
              "    <tr>\n",
              "      <th>3</th>\n",
              "      <td>4</td>\n",
              "      <td>1</td>\n",
              "      <td>1</td>\n",
              "      <td>0</td>\n",
              "      <td>1</td>\n",
              "      <td>1</td>\n",
              "      <td>3</td>\n",
              "      <td>0.434531</td>\n",
              "      <td>0.103644</td>\n",
              "    </tr>\n",
              "    <tr>\n",
              "      <th>4</th>\n",
              "      <td>5</td>\n",
              "      <td>0</td>\n",
              "      <td>3</td>\n",
              "      <td>1</td>\n",
              "      <td>1</td>\n",
              "      <td>0</td>\n",
              "      <td>0</td>\n",
              "      <td>0.434531</td>\n",
              "      <td>0.015713</td>\n",
              "    </tr>\n",
              "  </tbody>\n",
              "</table>\n",
              "</div>\n",
              "      <button class=\"colab-df-convert\" onclick=\"convertToInteractive('df-eb157b53-bbb2-4032-801b-718d49cbb9bc')\"\n",
              "              title=\"Convert this dataframe to an interactive table.\"\n",
              "              style=\"display:none;\">\n",
              "        \n",
              "  <svg xmlns=\"http://www.w3.org/2000/svg\" height=\"24px\"viewBox=\"0 0 24 24\"\n",
              "       width=\"24px\">\n",
              "    <path d=\"M0 0h24v24H0V0z\" fill=\"none\"/>\n",
              "    <path d=\"M18.56 5.44l.94 2.06.94-2.06 2.06-.94-2.06-.94-.94-2.06-.94 2.06-2.06.94zm-11 1L8.5 8.5l.94-2.06 2.06-.94-2.06-.94L8.5 2.5l-.94 2.06-2.06.94zm10 10l.94 2.06.94-2.06 2.06-.94-2.06-.94-.94-2.06-.94 2.06-2.06.94z\"/><path d=\"M17.41 7.96l-1.37-1.37c-.4-.4-.92-.59-1.43-.59-.52 0-1.04.2-1.43.59L10.3 9.45l-7.72 7.72c-.78.78-.78 2.05 0 2.83L4 21.41c.39.39.9.59 1.41.59.51 0 1.02-.2 1.41-.59l7.78-7.78 2.81-2.81c.8-.78.8-2.07 0-2.86zM5.41 20L4 18.59l7.72-7.72 1.47 1.35L5.41 20z\"/>\n",
              "  </svg>\n",
              "      </button>\n",
              "      \n",
              "  <style>\n",
              "    .colab-df-container {\n",
              "      display:flex;\n",
              "      flex-wrap:wrap;\n",
              "      gap: 12px;\n",
              "    }\n",
              "\n",
              "    .colab-df-convert {\n",
              "      background-color: #E8F0FE;\n",
              "      border: none;\n",
              "      border-radius: 50%;\n",
              "      cursor: pointer;\n",
              "      display: none;\n",
              "      fill: #1967D2;\n",
              "      height: 32px;\n",
              "      padding: 0 0 0 0;\n",
              "      width: 32px;\n",
              "    }\n",
              "\n",
              "    .colab-df-convert:hover {\n",
              "      background-color: #E2EBFA;\n",
              "      box-shadow: 0px 1px 2px rgba(60, 64, 67, 0.3), 0px 1px 3px 1px rgba(60, 64, 67, 0.15);\n",
              "      fill: #174EA6;\n",
              "    }\n",
              "\n",
              "    [theme=dark] .colab-df-convert {\n",
              "      background-color: #3B4455;\n",
              "      fill: #D2E3FC;\n",
              "    }\n",
              "\n",
              "    [theme=dark] .colab-df-convert:hover {\n",
              "      background-color: #434B5C;\n",
              "      box-shadow: 0px 1px 3px 1px rgba(0, 0, 0, 0.15);\n",
              "      filter: drop-shadow(0px 1px 2px rgba(0, 0, 0, 0.3));\n",
              "      fill: #FFFFFF;\n",
              "    }\n",
              "  </style>\n",
              "\n",
              "      <script>\n",
              "        const buttonEl =\n",
              "          document.querySelector('#df-eb157b53-bbb2-4032-801b-718d49cbb9bc button.colab-df-convert');\n",
              "        buttonEl.style.display =\n",
              "          google.colab.kernel.accessAllowed ? 'block' : 'none';\n",
              "\n",
              "        async function convertToInteractive(key) {\n",
              "          const element = document.querySelector('#df-eb157b53-bbb2-4032-801b-718d49cbb9bc');\n",
              "          const dataTable =\n",
              "            await google.colab.kernel.invokeFunction('convertToInteractive',\n",
              "                                                     [key], {});\n",
              "          if (!dataTable) return;\n",
              "\n",
              "          const docLinkHtml = 'Like what you see? Visit the ' +\n",
              "            '<a target=\"_blank\" href=https://colab.research.google.com/notebooks/data_table.ipynb>data table notebook</a>'\n",
              "            + ' to learn more about interactive tables.';\n",
              "          element.innerHTML = '';\n",
              "          dataTable['output_type'] = 'display_data';\n",
              "          await google.colab.output.renderOutput(dataTable, element);\n",
              "          const docLink = document.createElement('div');\n",
              "          docLink.innerHTML = docLinkHtml;\n",
              "          element.appendChild(docLink);\n",
              "        }\n",
              "      </script>\n",
              "    </div>\n",
              "  </div>\n",
              "  "
            ]
          },
          "metadata": {},
          "execution_count": 165
        }
      ]
    },
    {
      "cell_type": "markdown",
      "metadata": {
        "id": "kxO5n9VEFFWs"
      },
      "source": [
        "**4.** Разбить данные для обучения на тренировочную и валидационную выборки. Для оценки качества модели необходимо проверить полученную модель на валидационных данных  (`train_test_split(X, y, random_state=42, stratify=y, test_size=20)`)"
      ]
    },
    {
      "cell_type": "code",
      "execution_count": null,
      "metadata": {
        "id": "3AoD7ftYFFWt"
      },
      "outputs": [],
      "source": [
        "from sklearn.model_selection import train_test_split\n",
        "\n",
        "X = train.drop(columns = [\"Survived\"])\n",
        "y = train['Survived']\n",
        "X_train, X_test, y_train, y_test = train_test_split(X, y, random_state=42, stratify=y, test_size=20)\n"
      ]
    },
    {
      "cell_type": "markdown",
      "metadata": {
        "id": "24qbOIfhFFWv"
      },
      "source": [
        "**5.** \n",
        "#### Обучить на предобработанных данных следующие модели:\n",
        "* Логистическая регрессия (`LogisticRegression`)\n",
        "* Машины опорных векторов (`SVC`)\n",
        "* Метод ближайших соседей (`KNeighborsClassifier`)\n",
        "* Наивый байес (`GaussianNB`)\n",
        "* Дерево решений (`DecisionTreeClassifier`)\n",
        "* Случайный лес (`RandomForestClassifier`)\n",
        "* Градиентный бустинг (`GradientBoostingClassifier`)\n",
        "\n",
        "#### С каждой модели снять метрики, полученные на валидационных данных. Получить:\n",
        "* *Accuracy*\n",
        "* *Precision*\n",
        "* *Recall*\n",
        "* *F1-score*\n",
        "* *ConfusionMatrix*\n",
        "\n",
        "**Tip**:\n",
        "`sklearn.metrics.classification_report`\n",
        "\n",
        "#### Для каждой модели подобрать гиперпараметры, приносящие лучший скор на валидационных данных."
      ]
    },
    {
      "cell_type": "code",
      "execution_count": null,
      "metadata": {
        "id": "o1zPTUTXFFWx"
      },
      "outputs": [],
      "source": [
        "from sklearn.linear_model import LogisticRegression\n",
        "from sklearn.svm import SVC\n",
        "from sklearn.neighbors import KNeighborsClassifier\n",
        "from sklearn.naive_bayes import GaussianNB\n",
        "from sklearn.tree import DecisionTreeClassifier\n",
        "from sklearn.ensemble import RandomForestClassifier\n",
        "from sklearn.ensemble import GradientBoostingClassifier\n",
        "from sklearn.metrics import classification_report, accuracy_score, f1_score, precision_score, recall_score, confusion_matrix\n",
        "from sklearn.model_selection import GridSearchCV"
      ]
    },
    {
      "cell_type": "markdown",
      "source": [
        "**Logistic Regression**\n",
        "\n",
        "Solves the classification problem by using a logistic function."
      ],
      "metadata": {
        "id": "PvPYIK2-v0b_"
      }
    },
    {
      "cell_type": "code",
      "source": [
        "# Used to find the best hyperparameters for a given model\n",
        "def best_param(model, param_grid):\n",
        "    gs = GridSearchCV(model,param_grid, cv=10)\n",
        "    gs.fit(X_train,y_train)\n",
        "    print(\"Best params: \",gs.best_params_)"
      ],
      "metadata": {
        "id": "JbFa1FKgCOvB"
      },
      "execution_count": null,
      "outputs": []
    },
    {
      "cell_type": "code",
      "source": [
        "lr = LogisticRegression()\n",
        "lr.fit(X_train, y_train)\n",
        "lr_prediction = lr.predict(X_test)\n",
        "\n",
        "a_score_lr = accuracy_score(y_test, lr_prediction)\n",
        "prec_score_lr =precision_score(y_test, lr_prediction)\n",
        "rec_score_lr = recall_score(y_test, lr_prediction)\n",
        "f1_lr = f1_score(y_test, lr_prediction)\n",
        "conf_matr_lr = confusion_matrix(y_test, lr_prediction)\n",
        "print(conf_matr_lr)"
      ],
      "metadata": {
        "colab": {
          "base_uri": "https://localhost:8080/"
        },
        "id": "TCmkMOm1vysB",
        "outputId": "94085398-bb78-4086-b2fa-322ff56082bd"
      },
      "execution_count": null,
      "outputs": [
        {
          "output_type": "stream",
          "name": "stdout",
          "text": [
            "[[12  0]\n",
            " [ 3  5]]\n"
          ]
        },
        {
          "output_type": "stream",
          "name": "stderr",
          "text": [
            "/usr/local/lib/python3.7/dist-packages/sklearn/linear_model/_logistic.py:818: ConvergenceWarning: lbfgs failed to converge (status=1):\n",
            "STOP: TOTAL NO. of ITERATIONS REACHED LIMIT.\n",
            "\n",
            "Increase the number of iterations (max_iter) or scale the data as shown in:\n",
            "    https://scikit-learn.org/stable/modules/preprocessing.html\n",
            "Please also refer to the documentation for alternative solver options:\n",
            "    https://scikit-learn.org/stable/modules/linear_model.html#logistic-regression\n",
            "  extra_warning_msg=_LOGISTIC_SOLVER_CONVERGENCE_MSG,\n"
          ]
        }
      ]
    },
    {
      "cell_type": "markdown",
      "source": [
        "**SVC**"
      ],
      "metadata": {
        "id": "ovXu40D7yXa8"
      }
    },
    {
      "cell_type": "code",
      "source": [
        "svc = SVC()\n",
        "svc.fit(X_train, y_train)\n",
        "svc_prediction = svc.predict(X_test)\n",
        "\n",
        "a_score_svc = accuracy_score(y_test, svc_prediction)\n",
        "prec_score_svc =precision_score(y_test, svc_prediction)\n",
        "rec_score_svc = recall_score(y_test, svc_prediction)\n",
        "f1_svc = f1_score(y_test, svc_prediction)\n",
        "conf_matr_svc = confusion_matrix(y_test, svc_prediction)\n",
        "print(conf_matr_svc)"
      ],
      "metadata": {
        "colab": {
          "base_uri": "https://localhost:8080/"
        },
        "id": "h63wceGByciH",
        "outputId": "d48a44ca-c146-499d-ff3f-fec964bc889d"
      },
      "execution_count": null,
      "outputs": [
        {
          "output_type": "stream",
          "name": "stdout",
          "text": [
            "[[12  0]\n",
            " [ 8  0]]\n"
          ]
        },
        {
          "output_type": "stream",
          "name": "stderr",
          "text": [
            "/usr/local/lib/python3.7/dist-packages/sklearn/metrics/_classification.py:1318: UndefinedMetricWarning: Precision is ill-defined and being set to 0.0 due to no predicted samples. Use `zero_division` parameter to control this behavior.\n",
            "  _warn_prf(average, modifier, msg_start, len(result))\n"
          ]
        }
      ]
    },
    {
      "cell_type": "markdown",
      "source": [
        "**KNeighborsClassifier**"
      ],
      "metadata": {
        "id": "gZr_8mmVyc8j"
      }
    },
    {
      "cell_type": "code",
      "source": [
        "neighbors = KNeighborsClassifier()\n",
        "neighbors.fit(X_train, y_train)\n",
        "neighbors_prediction = neighbors.predict(X_test)\n",
        "\n",
        "a_score_neighbors = accuracy_score(y_test, neighbors_prediction)\n",
        "prec_score_neighbors =precision_score(y_test, neighbors_prediction)\n",
        "rec_score_neighbors = recall_score(y_test, neighbors_prediction)\n",
        "f1_neighbors = f1_score(y_test, neighbors_prediction)\n",
        "conf_matr_neighbors = confusion_matrix(y_test, neighbors_prediction)"
      ],
      "metadata": {
        "id": "Ntp3Cp8r1BqH"
      },
      "execution_count": null,
      "outputs": []
    },
    {
      "cell_type": "markdown",
      "source": [
        "**GaussianNB**"
      ],
      "metadata": {
        "id": "3lAEYj4T_Xyx"
      }
    },
    {
      "cell_type": "code",
      "source": [
        "nb = GaussianNB()\n",
        "nb.fit(X_train, y_train)\n",
        "nb_prediction = nb.predict(X_test)\n",
        "\n",
        "a_score_nb = accuracy_score(y_test, nb_prediction)\n",
        "prec_score_nb =precision_score(y_test, nb_prediction)\n",
        "rec_score_nb = recall_score(y_test, nb_prediction)\n",
        "f1_nb = f1_score(y_test, nb_prediction)\n",
        "conf_matr_nb = confusion_matrix(y_test, nb_prediction)\n",
        "print(conf_matr_nb)\n"
      ],
      "metadata": {
        "id": "dONvyoP_yF9J",
        "colab": {
          "base_uri": "https://localhost:8080/"
        },
        "outputId": "a9e02fc2-e666-46c5-aeea-b266fb5fe7d3"
      },
      "execution_count": null,
      "outputs": [
        {
          "output_type": "stream",
          "name": "stdout",
          "text": [
            "[[10  2]\n",
            " [ 3  5]]\n"
          ]
        }
      ]
    },
    {
      "cell_type": "markdown",
      "source": [
        "**Decision Tree Classifier**\n",
        "\n",
        "Each tree node corresponds to a certain feature. If feature value is less then certain criteria, the left branch will be chosen, otherwise - the right."
      ],
      "metadata": {
        "id": "q_wYeoD7_bM0"
      }
    },
    {
      "cell_type": "code",
      "source": [
        "param_grid={\n",
        "    'max_depth':[5,15,25],\n",
        "    'min_samples_leaf':[1,3,5],\n",
        "    'max_leaf_nodes':[10,20,35,50]\n",
        "}\n",
        "classifier = DecisionTreeClassifier(criterion='entropy')\n",
        "best_param(classifier,param_grid)"
      ],
      "metadata": {
        "colab": {
          "base_uri": "https://localhost:8080/"
        },
        "id": "B6G-pDX7_gvD",
        "outputId": "78554975-df44-4d8a-e097-d59d8ea67c4d"
      },
      "execution_count": null,
      "outputs": [
        {
          "output_type": "stream",
          "name": "stdout",
          "text": [
            "Best params:  {'max_depth': 25, 'max_leaf_nodes': 10, 'min_samples_leaf': 3}\n"
          ]
        }
      ]
    },
    {
      "cell_type": "code",
      "source": [
        "dt =DecisionTreeClassifier(criterion='entropy',max_depth=15,max_leaf_nodes=10,min_samples_leaf=1)\n",
        "dt.fit(X_train, y_train)\n",
        "dt_prediction = dt.predict(X_test)\n",
        "\n",
        "a_score_dt = accuracy_score(y_test, dt_prediction)\n",
        "prec_score_dt =precision_score(y_test, dt_prediction)\n",
        "rec_score_dt = recall_score(y_test, dt_prediction)\n",
        "f1_dt = f1_score(y_test, dt_prediction)\n",
        "conf_matr_dt = confusion_matrix(y_test, dt_prediction)"
      ],
      "metadata": {
        "id": "Au0q9NUGGaIs"
      },
      "execution_count": null,
      "outputs": []
    },
    {
      "cell_type": "markdown",
      "source": [
        "**Random Forest Classifier**\n",
        "\n",
        "This model consists of few Decision Trees. Each tree learns from different sample datasets. The final decision will be made after voting."
      ],
      "metadata": {
        "id": "EVHVahNe_hTP"
      }
    },
    {
      "cell_type": "code",
      "source": [
        "# finiding the best parameters using the GridSearchCV\n",
        "param_grid={'n_estimators':[10,25,50,75,100]}\n",
        "classifier_RF=RandomForestClassifier(random_state=1)\n",
        "best_param(classifier_RF,param_grid)\n"
      ],
      "metadata": {
        "colab": {
          "base_uri": "https://localhost:8080/"
        },
        "id": "yt-UqeB2_or8",
        "outputId": "4723b7e9-fc07-4ff6-a956-f3dd31f87aae"
      },
      "execution_count": null,
      "outputs": [
        {
          "output_type": "stream",
          "name": "stdout",
          "text": [
            "Best params:  {'n_estimators': 75}\n"
          ]
        }
      ]
    },
    {
      "cell_type": "code",
      "source": [
        "rf = RandomForestClassifier(criterion='entropy',n_estimators=75)\n",
        "rf.fit(X_train,y_train)\n",
        "rf_prediction = rf.predict(X_test)\n",
        "\n",
        "a_score_rf = accuracy_score(y_test, rf_prediction)\n",
        "prec_score_rf =precision_score(y_test, rf_prediction)\n",
        "rec_score_rf = recall_score(y_test, rf_prediction)\n",
        "f1_rf = f1_score(y_test, rf_prediction)\n",
        "conf_matr_rf = confusion_matrix(y_test, rf_prediction)\n"
      ],
      "metadata": {
        "id": "a_przrRIELwK"
      },
      "execution_count": null,
      "outputs": []
    },
    {
      "cell_type": "markdown",
      "source": [
        "**GradientBoostingClassifier**\n",
        "\n",
        "It is a sequence of small trees, each tree learns from previous mistakes."
      ],
      "metadata": {
        "id": "_NTyoFPZBgRj"
      }
    },
    {
      "cell_type": "code",
      "source": [
        "gb = GradientBoostingClassifier()\n",
        "gb.fit(X_train, y_train)\n",
        "gb_prediction = gb.predict(X_test)\n",
        "\n",
        "a_score_gb = accuracy_score(y_test, gb_prediction)\n",
        "prec_score_gb =precision_score(y_test, gb_prediction)\n",
        "rec_score_gb = recall_score(y_test, gb_prediction)\n",
        "f1_gb = f1_score(y_test, gb_prediction)\n",
        "conf_matr_gb = confusion_matrix(y_test, gb_prediction)"
      ],
      "metadata": {
        "id": "HPYc_BpnBjKk"
      },
      "execution_count": null,
      "outputs": []
    },
    {
      "cell_type": "markdown",
      "source": [
        "**Choosing the best model**"
      ],
      "metadata": {
        "id": "mr3yXCJJ1MVd"
      }
    },
    {
      "cell_type": "code",
      "source": [
        "data = [[\"Logistic Regression\",a_score_lr, prec_score_lr, rec_score_lr,f1_lr, conf_matr_lr],\n",
        "        [\"SVC\",a_score_svc, prec_score_svc, rec_score_svc,f1_svc, conf_matr_svc],\n",
        "        [\"NB\",a_score_nb, prec_score_nb, rec_score_nb,f1_nb, conf_matr_nb],\n",
        "        [\"KNeighbors\",a_score_neighbors, prec_score_neighbors, \n",
        "         rec_score_neighbors,f1_neighbors, conf_matr_neighbors],\n",
        "        [\"Decision Tree\",a_score_dt, prec_score_dt, rec_score_dt,f1_dt, conf_matr_dt],\n",
        "        [\"Random Forest\",a_score_rf, prec_score_rf, rec_score_rf,f1_rf, conf_matr_rf],\n",
        "        [\"Gradient Boosting\",a_score_gb, prec_score_gb, rec_score_gb,f1_gb, conf_matr_gb]]\n",
        "\n",
        "colnames = [\"Model\",\"Accuracy\",\"Precision\",\"Recall\",\"F1-score\", \"Matrix\" ]\n",
        "statistics = pd.DataFrame(data, columns= colnames)\n",
        "statistics"
      ],
      "metadata": {
        "colab": {
          "base_uri": "https://localhost:8080/",
          "height": 269
        },
        "id": "OJO37eYE1Rd1",
        "outputId": "eacfaf71-9a5b-4e2a-dd67-4f81e42c07ab"
      },
      "execution_count": null,
      "outputs": [
        {
          "output_type": "execute_result",
          "data": {
            "text/plain": [
              "                 Model  Accuracy  Precision  Recall  F1-score  \\\n",
              "0  Logistic Regression      0.85   1.000000   0.625  0.769231   \n",
              "1                  SVC      0.60   0.000000   0.000  0.000000   \n",
              "2                   NB      0.75   0.714286   0.625  0.666667   \n",
              "3           KNeighbors      0.65   0.600000   0.375  0.461538   \n",
              "4        Decision Tree      0.80   0.833333   0.625  0.714286   \n",
              "5        Random Forest      0.90   0.875000   0.875  0.875000   \n",
              "6    Gradient Boosting      0.85   1.000000   0.625  0.769231   \n",
              "\n",
              "              Matrix  \n",
              "0  [[12, 0], [3, 5]]  \n",
              "1  [[12, 0], [8, 0]]  \n",
              "2  [[10, 2], [3, 5]]  \n",
              "3  [[10, 2], [5, 3]]  \n",
              "4  [[11, 1], [3, 5]]  \n",
              "5  [[11, 1], [1, 7]]  \n",
              "6  [[12, 0], [3, 5]]  "
            ],
            "text/html": [
              "\n",
              "  <div id=\"df-70989713-6e0d-4d96-bcae-8d32d2d518b4\">\n",
              "    <div class=\"colab-df-container\">\n",
              "      <div>\n",
              "<style scoped>\n",
              "    .dataframe tbody tr th:only-of-type {\n",
              "        vertical-align: middle;\n",
              "    }\n",
              "\n",
              "    .dataframe tbody tr th {\n",
              "        vertical-align: top;\n",
              "    }\n",
              "\n",
              "    .dataframe thead th {\n",
              "        text-align: right;\n",
              "    }\n",
              "</style>\n",
              "<table border=\"1\" class=\"dataframe\">\n",
              "  <thead>\n",
              "    <tr style=\"text-align: right;\">\n",
              "      <th></th>\n",
              "      <th>Model</th>\n",
              "      <th>Accuracy</th>\n",
              "      <th>Precision</th>\n",
              "      <th>Recall</th>\n",
              "      <th>F1-score</th>\n",
              "      <th>Matrix</th>\n",
              "    </tr>\n",
              "  </thead>\n",
              "  <tbody>\n",
              "    <tr>\n",
              "      <th>0</th>\n",
              "      <td>Logistic Regression</td>\n",
              "      <td>0.85</td>\n",
              "      <td>1.000000</td>\n",
              "      <td>0.625</td>\n",
              "      <td>0.769231</td>\n",
              "      <td>[[12, 0], [3, 5]]</td>\n",
              "    </tr>\n",
              "    <tr>\n",
              "      <th>1</th>\n",
              "      <td>SVC</td>\n",
              "      <td>0.60</td>\n",
              "      <td>0.000000</td>\n",
              "      <td>0.000</td>\n",
              "      <td>0.000000</td>\n",
              "      <td>[[12, 0], [8, 0]]</td>\n",
              "    </tr>\n",
              "    <tr>\n",
              "      <th>2</th>\n",
              "      <td>NB</td>\n",
              "      <td>0.75</td>\n",
              "      <td>0.714286</td>\n",
              "      <td>0.625</td>\n",
              "      <td>0.666667</td>\n",
              "      <td>[[10, 2], [3, 5]]</td>\n",
              "    </tr>\n",
              "    <tr>\n",
              "      <th>3</th>\n",
              "      <td>KNeighbors</td>\n",
              "      <td>0.65</td>\n",
              "      <td>0.600000</td>\n",
              "      <td>0.375</td>\n",
              "      <td>0.461538</td>\n",
              "      <td>[[10, 2], [5, 3]]</td>\n",
              "    </tr>\n",
              "    <tr>\n",
              "      <th>4</th>\n",
              "      <td>Decision Tree</td>\n",
              "      <td>0.80</td>\n",
              "      <td>0.833333</td>\n",
              "      <td>0.625</td>\n",
              "      <td>0.714286</td>\n",
              "      <td>[[11, 1], [3, 5]]</td>\n",
              "    </tr>\n",
              "    <tr>\n",
              "      <th>5</th>\n",
              "      <td>Random Forest</td>\n",
              "      <td>0.90</td>\n",
              "      <td>0.875000</td>\n",
              "      <td>0.875</td>\n",
              "      <td>0.875000</td>\n",
              "      <td>[[11, 1], [1, 7]]</td>\n",
              "    </tr>\n",
              "    <tr>\n",
              "      <th>6</th>\n",
              "      <td>Gradient Boosting</td>\n",
              "      <td>0.85</td>\n",
              "      <td>1.000000</td>\n",
              "      <td>0.625</td>\n",
              "      <td>0.769231</td>\n",
              "      <td>[[12, 0], [3, 5]]</td>\n",
              "    </tr>\n",
              "  </tbody>\n",
              "</table>\n",
              "</div>\n",
              "      <button class=\"colab-df-convert\" onclick=\"convertToInteractive('df-70989713-6e0d-4d96-bcae-8d32d2d518b4')\"\n",
              "              title=\"Convert this dataframe to an interactive table.\"\n",
              "              style=\"display:none;\">\n",
              "        \n",
              "  <svg xmlns=\"http://www.w3.org/2000/svg\" height=\"24px\"viewBox=\"0 0 24 24\"\n",
              "       width=\"24px\">\n",
              "    <path d=\"M0 0h24v24H0V0z\" fill=\"none\"/>\n",
              "    <path d=\"M18.56 5.44l.94 2.06.94-2.06 2.06-.94-2.06-.94-.94-2.06-.94 2.06-2.06.94zm-11 1L8.5 8.5l.94-2.06 2.06-.94-2.06-.94L8.5 2.5l-.94 2.06-2.06.94zm10 10l.94 2.06.94-2.06 2.06-.94-2.06-.94-.94-2.06-.94 2.06-2.06.94z\"/><path d=\"M17.41 7.96l-1.37-1.37c-.4-.4-.92-.59-1.43-.59-.52 0-1.04.2-1.43.59L10.3 9.45l-7.72 7.72c-.78.78-.78 2.05 0 2.83L4 21.41c.39.39.9.59 1.41.59.51 0 1.02-.2 1.41-.59l7.78-7.78 2.81-2.81c.8-.78.8-2.07 0-2.86zM5.41 20L4 18.59l7.72-7.72 1.47 1.35L5.41 20z\"/>\n",
              "  </svg>\n",
              "      </button>\n",
              "      \n",
              "  <style>\n",
              "    .colab-df-container {\n",
              "      display:flex;\n",
              "      flex-wrap:wrap;\n",
              "      gap: 12px;\n",
              "    }\n",
              "\n",
              "    .colab-df-convert {\n",
              "      background-color: #E8F0FE;\n",
              "      border: none;\n",
              "      border-radius: 50%;\n",
              "      cursor: pointer;\n",
              "      display: none;\n",
              "      fill: #1967D2;\n",
              "      height: 32px;\n",
              "      padding: 0 0 0 0;\n",
              "      width: 32px;\n",
              "    }\n",
              "\n",
              "    .colab-df-convert:hover {\n",
              "      background-color: #E2EBFA;\n",
              "      box-shadow: 0px 1px 2px rgba(60, 64, 67, 0.3), 0px 1px 3px 1px rgba(60, 64, 67, 0.15);\n",
              "      fill: #174EA6;\n",
              "    }\n",
              "\n",
              "    [theme=dark] .colab-df-convert {\n",
              "      background-color: #3B4455;\n",
              "      fill: #D2E3FC;\n",
              "    }\n",
              "\n",
              "    [theme=dark] .colab-df-convert:hover {\n",
              "      background-color: #434B5C;\n",
              "      box-shadow: 0px 1px 3px 1px rgba(0, 0, 0, 0.15);\n",
              "      filter: drop-shadow(0px 1px 2px rgba(0, 0, 0, 0.3));\n",
              "      fill: #FFFFFF;\n",
              "    }\n",
              "  </style>\n",
              "\n",
              "      <script>\n",
              "        const buttonEl =\n",
              "          document.querySelector('#df-70989713-6e0d-4d96-bcae-8d32d2d518b4 button.colab-df-convert');\n",
              "        buttonEl.style.display =\n",
              "          google.colab.kernel.accessAllowed ? 'block' : 'none';\n",
              "\n",
              "        async function convertToInteractive(key) {\n",
              "          const element = document.querySelector('#df-70989713-6e0d-4d96-bcae-8d32d2d518b4');\n",
              "          const dataTable =\n",
              "            await google.colab.kernel.invokeFunction('convertToInteractive',\n",
              "                                                     [key], {});\n",
              "          if (!dataTable) return;\n",
              "\n",
              "          const docLinkHtml = 'Like what you see? Visit the ' +\n",
              "            '<a target=\"_blank\" href=https://colab.research.google.com/notebooks/data_table.ipynb>data table notebook</a>'\n",
              "            + ' to learn more about interactive tables.';\n",
              "          element.innerHTML = '';\n",
              "          dataTable['output_type'] = 'display_data';\n",
              "          await google.colab.output.renderOutput(dataTable, element);\n",
              "          const docLink = document.createElement('div');\n",
              "          docLink.innerHTML = docLinkHtml;\n",
              "          element.appendChild(docLink);\n",
              "        }\n",
              "      </script>\n",
              "    </div>\n",
              "  </div>\n",
              "  "
            ]
          },
          "metadata": {},
          "execution_count": 178
        }
      ]
    },
    {
      "cell_type": "markdown",
      "metadata": {
        "id": "HmG7pHCLFFWy"
      },
      "source": [
        "**6.** \n",
        "#### Получить лучший результ на kaggle.com\n",
        "* Зарегистрироваться на https://www.kaggle.com\n",
        "* Перейти по ссылке: https://www.kaggle.com/c/titanic/submit\n",
        "* Засабмитить полученный csv файл и получить результат (*accuracy*)"
      ]
    },
    {
      "cell_type": "code",
      "source": [
        "test.isnull().sum()"
      ],
      "metadata": {
        "colab": {
          "base_uri": "https://localhost:8080/"
        },
        "id": "_KIIslve-CjJ",
        "outputId": "28bb9a69-d776-4644-a20a-200d1a0d2b39"
      },
      "execution_count": null,
      "outputs": [
        {
          "output_type": "execute_result",
          "data": {
            "text/plain": [
              "PassengerId    0\n",
              "Pclass         0\n",
              "Sex            0\n",
              "Embarked       0\n",
              "FamilySize     0\n",
              "Deck           0\n",
              "Age            0\n",
              "Fare           1\n",
              "dtype: int64"
            ]
          },
          "metadata": {},
          "execution_count": 179
        }
      ]
    },
    {
      "cell_type": "code",
      "source": [
        " test[\"Fare\"] = test.Fare.fillna(test.Fare.mean())"
      ],
      "metadata": {
        "id": "Xiym9H8e-iR1"
      },
      "execution_count": null,
      "outputs": []
    },
    {
      "cell_type": "code",
      "source": [
        "res = lr.predict(test).astype(int)\n",
        "submission = pd.DataFrame({\"PassengerId\": test['PassengerId'],\n",
        "                          \"Survived\": res})\n",
        "# submission.to_csv('/content/drive/MyDrive/Colab Notebooks/submission.csv', index=False)"
      ],
      "metadata": {
        "id": "lsW8i52u5iN2"
      },
      "execution_count": null,
      "outputs": []
    },
    {
      "cell_type": "markdown",
      "source": [
        "**Logical Regression Model** = 74 %"
      ],
      "metadata": {
        "id": "QjEzTjcW_gEk"
      }
    },
    {
      "cell_type": "code",
      "source": [
        "res = rf.predict(test).astype(int)\n",
        "submission = pd.DataFrame({\"PassengerId\": test['PassengerId'],\n",
        "                          \"Survived\": res})\n",
        "# submission.to_csv('/content/drive/MyDrive/Colab Notebooks/submission_forest.csv', index=False)"
      ],
      "metadata": {
        "id": "s75_hmXw_9hV"
      },
      "execution_count": null,
      "outputs": []
    },
    {
      "cell_type": "markdown",
      "source": [
        "**Random Forest Model**\n",
        "\n",
        "https://www.kaggle.com/competitions/titanic/leaderboard \n",
        "![results.png](data:image/png;base64,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)"
      ],
      "metadata": {
        "id": "H5A68zyOA0uo"
      }
    }
  ],
  "metadata": {
    "kernelspec": {
      "display_name": "Python 3",
      "language": "python",
      "name": "python3"
    },
    "language_info": {
      "codemirror_mode": {
        "name": "ipython",
        "version": 3
      },
      "file_extension": ".py",
      "mimetype": "text/x-python",
      "name": "python",
      "nbconvert_exporter": "python",
      "pygments_lexer": "ipython3",
      "version": "3.8.10"
    },
    "colab": {
      "provenance": []
    }
  },
  "nbformat": 4,
  "nbformat_minor": 0
}